{
 "cells": [
  {
   "cell_type": "code",
   "execution_count": 1,
   "metadata": {},
   "outputs": [],
   "source": [
    "import mariadb\n",
    "import sys, os\n",
    "import pandas as pd\n",
    "\n",
    "conn = mariadb.connect(\n",
    "    user='bscholz',\n",
    "    password='qBKnj!xeQMqqV@uV,7VK',\n",
    "    host='10.8.0.1',\n",
    "    port=3307,\n",
    "    database='test_db'\n",
    ")"
   ]
  },
  {
   "cell_type": "code",
   "execution_count": 2,
   "metadata": {},
   "outputs": [
    {
     "data": {
      "text/plain": [
       "<mariadb.cursor at 0x7fb2ee6fb700>"
      ]
     },
     "execution_count": 2,
     "metadata": {},
     "output_type": "execute_result"
    }
   ],
   "source": [
    "cur = conn.cursor()\n",
    "\n",
    "cur.execute('SELECT * FROM test_tbl')"
   ]
  },
  {
   "cell_type": "code",
   "execution_count": 3,
   "metadata": {},
   "outputs": [
    {
     "data": {
      "text/plain": [
       "[]"
      ]
     },
     "execution_count": 3,
     "metadata": {},
     "output_type": "execute_result"
    }
   ],
   "source": [
    "[x for x in cur]"
   ]
  }
 ],
 "metadata": {
  "kernelspec": {
   "display_name": "NAS-Test",
   "language": "python",
   "name": "python3"
  },
  "language_info": {
   "codemirror_mode": {
    "name": "ipython",
    "version": 3
   },
   "file_extension": ".py",
   "mimetype": "text/x-python",
   "name": "python",
   "nbconvert_exporter": "python",
   "pygments_lexer": "ipython3",
   "version": "3.8.10"
  },
  "orig_nbformat": 4,
  "vscode": {
   "interpreter": {
    "hash": "2881bed8d893c90c72ddbf98c8898aff9451af2d1c8f12326137c9e12011a025"
   }
  }
 },
 "nbformat": 4,
 "nbformat_minor": 2
}
